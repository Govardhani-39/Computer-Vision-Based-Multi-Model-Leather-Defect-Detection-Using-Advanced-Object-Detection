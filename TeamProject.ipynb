{
  "nbformat": 4,
  "nbformat_minor": 0,
  "metadata": {
    "colab": {
      "provenance": []
    },
    "kernelspec": {
      "name": "python3",
      "display_name": "Python 3"
    },
    "language_info": {
      "name": "python"
    }
  },
  "cells": [
    {
      "cell_type": "code",
      "execution_count": null,
      "metadata": {
        "id": "oeUtYK-7F7Gx"
      },
      "outputs": [],
      "source": []
    },
    {
      "cell_type": "markdown",
      "source": [
        "# **Project Title: Computer Vision-Based Multi-Model Leather Defect Detection Using Advanced Object Detection**"
      ],
      "metadata": {
        "id": "BC7ZctdkF9Ei"
      }
    },
    {
      "cell_type": "code",
      "source": [],
      "metadata": {
        "id": "28Q9DS1FGDT0"
      },
      "execution_count": null,
      "outputs": []
    }
  ]
}